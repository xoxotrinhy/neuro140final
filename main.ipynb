{
 "cells": [
  {
   "cell_type": "code",
   "execution_count": 19,
   "id": "ab8ae9b6-769a-4114-92e2-cfc1d387ad31",
   "metadata": {
    "scrolled": true
   },
   "outputs": [
    {
     "name": "stderr",
     "output_type": "stream",
     "text": [
      "/shared/home/thn967/.local/lib/python3.11/site-packages/huggingface_hub/file_download.py:896: FutureWarning: `resume_download` is deprecated and will be removed in version 1.0.0. Downloads always resume when possible. If you want to force a new download, use `force_download=True`.\n",
      "  warnings.warn(\n",
      "/shared/home/thn967/.local/lib/python3.11/site-packages/huggingface_hub/file_download.py:896: FutureWarning: `resume_download` is deprecated and will be removed in version 1.0.0. Downloads always resume when possible. If you want to force a new download, use `force_download=True`.\n",
      "  warnings.warn(\n",
      "/shared/spack/opt/spack/linux-amzn2-skylake_avx512/gcc-14.1.0/miniconda3-24.3.0-zxx5jostrj4myhf7bi3oap3ylkmegd3a/envs/neuro140/lib/python3.11/site-packages/transformers/optimization.py:429: FutureWarning: This implementation of AdamW is deprecated and will be removed in a future version. Use the PyTorch implementation torch.optim.AdamW instead, or set `no_deprecation_warning=True` to disable this warning\n",
      "  warnings.warn(\n",
      "Epoch 1 - Training: 100%|██████████| 2/2 [00:00<00:00,  8.70it/s]\n"
     ]
    },
    {
     "name": "stdout",
     "output_type": "stream",
     "text": [
      "\n",
      "Epoch 1 Train Loss: 3.6254\n",
      "Train Accuracy: ['12.50%', '87.50%', '25.00%', '18.75%']\n"
     ]
    },
    {
     "name": "stderr",
     "output_type": "stream",
     "text": [
      "Epoch 2 - Training: 100%|██████████| 2/2 [00:00<00:00,  8.59it/s]\n"
     ]
    },
    {
     "name": "stdout",
     "output_type": "stream",
     "text": [
      "\n",
      "Epoch 2 Train Loss: 3.2241\n",
      "Train Accuracy: ['87.50%', '87.50%', '75.00%', '62.50%']\n"
     ]
    },
    {
     "name": "stderr",
     "output_type": "stream",
     "text": [
      "Epoch 3 - Training: 100%|██████████| 2/2 [00:00<00:00,  8.62it/s]\n",
      "Special tokens have been added in the vocabulary, make sure the associated word embeddings are fine-tuned or trained.\n"
     ]
    },
    {
     "name": "stdout",
     "output_type": "stream",
     "text": [
      "\n",
      "Epoch 3 Train Loss: 3.0783\n",
      "Train Accuracy: ['87.50%', '87.50%', '31.25%', '68.75%']\n"
     ]
    },
    {
     "name": "stderr",
     "output_type": "stream",
     "text": [
      "Training: 100%|██████████| 10/10 [00:00<00:00, 10.41it/s]\n"
     ]
    },
    {
     "name": "stdout",
     "output_type": "stream",
     "text": [
      "\n",
      "Epoch 1: Train Loss = 3.7673, Val Loss = 2.8405\n"
     ]
    },
    {
     "name": "stderr",
     "output_type": "stream",
     "text": [
      "Training: 100%|██████████| 10/10 [00:00<00:00, 10.30it/s]\n"
     ]
    },
    {
     "name": "stdout",
     "output_type": "stream",
     "text": [
      "\n",
      "Epoch 2: Train Loss = 2.8680, Val Loss = 2.5153\n"
     ]
    },
    {
     "name": "stderr",
     "output_type": "stream",
     "text": [
      "Training: 100%|██████████| 10/10 [00:00<00:00, 10.28it/s]\n"
     ]
    },
    {
     "name": "stdout",
     "output_type": "stream",
     "text": [
      "\n",
      "Epoch 3: Train Loss = 2.4864, Val Loss = 2.2867\n"
     ]
    },
    {
     "name": "stderr",
     "output_type": "stream",
     "text": [
      "Training: 100%|██████████| 10/10 [00:00<00:00, 10.39it/s]\n"
     ]
    },
    {
     "name": "stdout",
     "output_type": "stream",
     "text": [
      "\n",
      "Epoch 4: Train Loss = 2.1772, Val Loss = 2.1276\n"
     ]
    },
    {
     "name": "stderr",
     "output_type": "stream",
     "text": [
      "Training: 100%|██████████| 10/10 [00:00<00:00, 10.34it/s]\n"
     ]
    },
    {
     "name": "stdout",
     "output_type": "stream",
     "text": [
      "\n",
      "Epoch 5: Train Loss = 1.9462, Val Loss = 2.0767\n"
     ]
    },
    {
     "name": "stderr",
     "output_type": "stream",
     "text": [
      "Training: 100%|██████████| 10/10 [00:00<00:00, 10.30it/s]\n"
     ]
    },
    {
     "name": "stdout",
     "output_type": "stream",
     "text": [
      "\n",
      "Epoch 6: Train Loss = 1.7935, Val Loss = 1.9958\n"
     ]
    },
    {
     "name": "stderr",
     "output_type": "stream",
     "text": [
      "Training: 100%|██████████| 10/10 [00:00<00:00, 10.27it/s]\n"
     ]
    },
    {
     "name": "stdout",
     "output_type": "stream",
     "text": [
      "\n",
      "Epoch 7: Train Loss = 1.6150, Val Loss = 1.9668\n"
     ]
    },
    {
     "name": "stderr",
     "output_type": "stream",
     "text": [
      "Training: 100%|██████████| 10/10 [00:00<00:00, 10.29it/s]\n"
     ]
    },
    {
     "name": "stdout",
     "output_type": "stream",
     "text": [
      "\n",
      "Epoch 8: Train Loss = 1.4484, Val Loss = 1.9290\n"
     ]
    },
    {
     "name": "stderr",
     "output_type": "stream",
     "text": [
      "Training: 100%|██████████| 10/10 [00:00<00:00, 10.21it/s]\n"
     ]
    },
    {
     "name": "stdout",
     "output_type": "stream",
     "text": [
      "\n",
      "Epoch 9: Train Loss = 1.3739, Val Loss = 1.9387\n"
     ]
    },
    {
     "name": "stderr",
     "output_type": "stream",
     "text": [
      "Training: 100%|██████████| 10/10 [00:00<00:00, 10.19it/s]\n"
     ]
    },
    {
     "name": "stdout",
     "output_type": "stream",
     "text": [
      "\n",
      "Epoch 10: Train Loss = 1.2720, Val Loss = 1.9328\n"
     ]
    },
    {
     "name": "stderr",
     "output_type": "stream",
     "text": [
      "Training: 100%|██████████| 10/10 [00:00<00:00, 10.29it/s]\n"
     ]
    },
    {
     "name": "stdout",
     "output_type": "stream",
     "text": [
      "\n",
      "Epoch 11: Train Loss = 1.1895, Val Loss = 1.9517\n"
     ]
    },
    {
     "name": "stderr",
     "output_type": "stream",
     "text": [
      "Training: 100%|██████████| 10/10 [00:00<00:00, 10.28it/s]\n"
     ]
    },
    {
     "name": "stdout",
     "output_type": "stream",
     "text": [
      "\n",
      "Epoch 12: Train Loss = 1.0900, Val Loss = 1.9325\n"
     ]
    },
    {
     "name": "stderr",
     "output_type": "stream",
     "text": [
      "Training: 100%|██████████| 10/10 [00:00<00:00, 10.33it/s]\n"
     ]
    },
    {
     "name": "stdout",
     "output_type": "stream",
     "text": [
      "\n",
      "Epoch 13: Train Loss = 1.0211, Val Loss = 1.9598\n"
     ]
    },
    {
     "name": "stderr",
     "output_type": "stream",
     "text": [
      "Training: 100%|██████████| 10/10 [00:00<00:00, 10.28it/s]\n"
     ]
    },
    {
     "name": "stdout",
     "output_type": "stream",
     "text": [
      "\n",
      "Epoch 14: Train Loss = 0.9158, Val Loss = 1.9788\n"
     ]
    },
    {
     "name": "stderr",
     "output_type": "stream",
     "text": [
      "Training: 100%|██████████| 10/10 [00:00<00:00, 10.25it/s]\n"
     ]
    },
    {
     "name": "stdout",
     "output_type": "stream",
     "text": [
      "\n",
      "Epoch 15: Train Loss = 0.8233, Val Loss = 2.0293\n"
     ]
    },
    {
     "data": {
      "text/plain": [
       "[{'Question': 'Evaluate the extent to which the growth of transatlantic trade changed British North American colonial society from 1607 to 1776.',\n",
       "  'Response': 'Since the beginning of the Era of Exploration, European nations had been funding groundbreaking navigation trips to never-before-explored areas, developing colonies, and establishing trade. Explorers such as Vasco De Gama, Ferdinand Magellen, Christopher Columbus were funded by monarchs such as Isabella of Spain and aided by technology such as carvel ships and astrolabes. Once landed, nations quickly established colonies, with those such as Spanish conquistadors using immense force to combat Native populations. The unique resources and immense wealth brought about by these colonies were exchanged throughout trade routes, one of the most notable being the transatlantic trade route. Although it furthered the British North American colonies\\' ties to England, transatlantic trade succeeded in drastically changing the British North American colonial society to large extent by leading to the development of distinct regions throughout the colonies and leading to the dependence of Southern society on slave labor. To begin with, the transatlantic trade involved many of the British North American colonies, but, at each port, different items were exchanged, leading to the development of distinct economical regions between these colonies; these unique economies, in turn, shaped British American colonial society. For example, the Massachussetts Bay Colony in the northern region had originally been founded on the principle of religious tolerance (for select religions excluding Catholicism and Judaism). Located along the coast, this colony quickly became apart of transatlantic trade, which led to the formation of the colony\\'s economy. The economy of the Massachussetts Bay Colony became based around fishing, but, more importantly, shipbuilding, as a merchant class evolved within this economy and sought to partake in the transatlantic trade. As a result, this colony was more reliant on commerce than agriculture, leading to tightly spaced and closer knit communities, allowing these societies to become more connected and reliant on the church. In the South, the colony of Virginia was originally founded upon the principles of \"God, Gold, and Glory\". However, after harsh seasons and the discovery of the absence of gold, the colonists grew discontent. But, the transatlantic slave trade gradually increased the wealth of Virginian colonists by encouraging these colonists to grow and trade crops, such as tobacco, a cash crop, in the profitable transatlantic trade. As a result, the Virginian economy became reliant on agriculture, a lot of land was dedicated to farming, and societies became more spread out and less tightly knit than Northern colonies. In addition to creating distinct regions, the transatlantic trade introduced Southern colonies to slave labor and gradually increased these colonies\\' dependence on slave labor over time. For example, in 1607, the first Africans arrived in Virginia, but it was a very small amount. More importantly, these Africans arrived as indentured servants, with freedom promised to them after a designated number of years of service. However, the development of the transatlantic trade made the South reliant on slaves not only by demanding more and more agricultural output from the South, but also by supplying the South with the slaves through the transatlantic slave trade. In the transatlantic slave trade, Europeans in Africa would kidnap Africans or bribe African tribes to kidnap rival tribe members put on ships destined for British North America. Once these ships reached the South, the slaves were auctioned off. The increase of slave labor in the South also led the creation of Southern plantations, a unique characteristic of Southern society that represented the South even after the transatlantic slave trade ended (this is evident in media such as Gone with the Wind). While the transatlantic trade may have created regions and developed slavery, it did act as a continuity in furthering the British North American colonies\\' ties with England. As a crucial part of transatlantic trade, the colonies sold much of their raw materials to consumers in England. The profits from this trade constituted a large part of the colonial economy and made the colonies dependent on England. For example, when the colonists were angry at the Tea Act, which gave the British East India Company a monopoly over the tea trade, colonists rebelled through the Boston Tea Party, in which vast amounts of expensive of tea were dumped into the Boston Harbor. The colonists retaliated in this way because they were angry that England had the ability to grant monopoly rights to the British East India Company but they also acknowledged that by ruining the tea, they were harming the crucial economic tie between the colonies in England. Considering this example and others, it begins to be revealed that the transatlantic trade actually did cause change in relation to the colonies and England in that it stirred political activism in colonial society by creating a tie so strong that the colonists felt no choice but to retaliate and break this economic bond with England as part of a way to obtain independence in their economies, politics, and society.',\n",
       "  'Thesis': 1,\n",
       "  'Contextualization': 1,\n",
       "  'Evidence': 2,\n",
       "  'Analysis': 1,\n",
       "  'Thesis Feedback': 'The response earned 1 point on the thesis because it describes the growth of transatlantic trade and the dependence of Southern society on slave labor.',\n",
       "  'Contextualization Feedback': \"The response earned 1 point on the student's contextualization. In the second paragraph, the response describes the expansion of the colonies by establishing trade routes in the United States. The response describes the expansion of the colonies by establishing trade routes in the United States. The response describes the expansion of the colonies by establishing trade routes in the United States. The response describes the expansion of the colonies by establishing trade routes in the United States. The response describes the expansion of the colonies by establishing trade routes in England.\",\n",
       "  'Evidence Feedback': \"The response earned 1 point on the student's evidence. The student's Evidence explains the extent to which the growth of transatlantic trade changed British North American colonial society to large extent by leading to the development of distinct economies throughout the colonies and leading to the dependence of Southern society on slave labor.\",\n",
       "  'Analysis Feedback': \"The response earned 1 point on the student's progress by using historical reasoning to structure an argument that addresses the question. In the second paragraph, the response describes the expansion of the colonies’ ties with England. The response describes the expansion of the colonies’ ties with England and the expansion of the colonies’ ties to England.\"},\n",
       " {'Question': 'Evaluate the extent to which the growth of transatlantic trade changed British North American colonial society from 1607 to 1776.',\n",
       "  'Response': 'The arrival of Columbus in the Americas had set off a larrge and immense movment of people from all the major coutnries of the Netherlands, Spain, France, and the British to North and South America. The British, however, was the the main powera as thir navy was the storngest amongst any of his other opponents, and had the wealth and resoures to be able to take the area of land East of North America to form its colonies. They had established the city of Jamestown, the first permanent colonial settlement, and were able to expand with the ability of their large military power to form a total of 13 colonies connectign each other through the Atlantic Ocean. From the period of 1607 to 1776, the growth of the transatlantic slave trade changed British North American colonial society as it started to bring an exahnge of large amoutns of goods and reosurces while also prioriting the idea of mercantilism in the colonies. However, the trade had also establsihed the use of slavery in the predominant Southern colonies whose effect would last for years to come even after American independcne. The transatlatic slave trade had establsihed a network of network of exchange of resources, however heavily implented the idea of self-profit through mercantilism. Resoruces such as tomatoes, corn, and, and turkey was introdued to the British society while bringing resoruces such as potatoes and horses to the colonies. They had estabished the ability to exploit colonists and people born in the Americans for their own will and profit thir home nation of Britain. Although the colonists also profits from this from of trade, they were being used by the British to work for them as they also constructed the social classes of people to tkae charge of the ability, strenght, and upsrings of the others. The form of trade had also idtrodcted slavery into the nation, to replace Idians for a form of indentured servitude. Slaves were purchsed form Africa and brought to the Americas to work in the SOuthern palntations set up in the solonies. As the colonies in the South had better climate, they were able to use a form of labor that would not have to ask for any form of pay or reward. This had forced the southern economy to be enrooted towards the idea of slavery and run its economy off the proficts made from agriculture and slavery. The pattern of southern slavery is continued all throughout decades all the way to the idea of sectionalism, nullification, and the Civil War as the slave-establsuhed states of the new country had started to separated due to the issue of slavery, contaaining it, and abolishing it.',\n",
       "  'Thesis': 1,\n",
       "  'Contextualization': 1,\n",
       "  'Evidence': 2,\n",
       "  'Analysis': 1,\n",
       "  'Thesis Feedback': 'The response earned 1 point on the thesis because it describes mercantilism in the second paragraph. The response describes mercantilism in the third paragraph. The response describes mercantilism in the third paragraph.',\n",
       "  'Contextualization Feedback': \"The response earned 1 point on the student's contextualization. The response describes the arrival of Christopher Columbus in the Americas and immense movment of people from all the major coutnries of the Netherlands, Spain, France, and the British to North and South America.\",\n",
       "  'Evidence Feedback': \"The response earned 1 point on the student's evidence. The student's Evidence describes the arrival of Christopher Columbus in the Americas and immense movment of people from all the major coutnries of the Netherlands, Spain, France, and the British to North and South America.\",\n",
       "  'Analysis Feedback': 'The response earned 1 point on the thesis because it describes mercantilism in the second paragraph. The response describes mercantilism in the third paragraph. The response describes mercantilism in the third paragraph.'},\n",
       " {'Question': 'Evaluate the extent to which the growth of transatlantic trade changed British North American colonial society from 1607 to 1776.',\n",
       "  'Response': 'In 1492, Christopher Columbus had fled from Europe founded the Americas caused a chain of events where he led several countries in Europe including the Spanish, French, and British to colonize the land and have and exchange of goods called The Columbian Exchange of which allowed them to have access to goods from the Americas but as a result brought in diseases of which killed millions of Native Americans which only gave them access to more land and caused more migration over to the New World causing several colonies to settle down continusly traded with Europe with their new goods from the Americas which helped grow the transatlantic trade route. The growth of this route allowed for a lot of change in the British North American colonial society like helping them realize their want for representation and ending up independent from the British.',\n",
       "  'Thesis': 1,\n",
       "  'Contextualization': 1,\n",
       "  'Evidence': 2,\n",
       "  'Analysis': 1,\n",
       "  'Thesis Feedback': 'The response did not earn 1 point on the thesis because it does not provide specific examples of evidence relevant to the prompt.',\n",
       "  'Contextualization Feedback': \"The response did not earn the point on the student's contextualization because it does not provide specific examples of evidence relevant to the prompt.\",\n",
       "  'Evidence Feedback': \"The response did not earn the point on the student's Evidence. The student did not earn the point on the student's evidence because it does not provide specific examples of evidence relevant to the prompt.\",\n",
       "  'Analysis Feedback': \"The response did not earn 1 point on the student's analysis because it does not provide specific examples of evidence relevant to the prompt.\"}]"
      ]
     },
     "metadata": {},
     "output_type": "display_data"
    }
   ],
   "source": [
    "# 1. Imports\n",
    "import pandas as pd\n",
    "import numpy as np\n",
    "import torch\n",
    "import torch.nn as nn\n",
    "from torch.utils.data import Dataset, DataLoader\n",
    "from transformers import (\n",
    "    DistilBertTokenizerFast, DistilBertModel,\n",
    "    T5Tokenizer, T5ForConditionalGeneration,\n",
    "    AdamW\n",
    ")\n",
    "from sklearn.model_selection import train_test_split\n",
    "from tqdm import tqdm\n",
    "\n",
    "# Set device\n",
    "device = torch.device(\"cuda\" if torch.cuda.is_available() else \"cpu\")\n",
    "\n",
    "# 2. Load and preprocess data\n",
    "df = pd.read_csv(\"~/neuro140/sample - Sheet1.csv\")\n",
    "df['Score-Evidence (0-2)'] = df['Score-Evidence (0-2)'].clip(upper=2)\n",
    "df['text'] = df['Question'].fillna('') + ' [SEP] ' + df['Response'].fillna('')\n",
    "\n",
    "label_cols = [\n",
    "    'Score-Thesis (0-1)',\n",
    "    'Score-Contextualization (0-1)',\n",
    "    'Score-Evidence (0-2)',\n",
    "    'Score-Analysis and Reasoning (0-2)'\n",
    "]\n",
    "\n",
    "# 3. Tokenization and Dataset Preparation\n",
    "scoring_tokenizer = DistilBertTokenizerFast.from_pretrained('distilbert-base-uncased')\n",
    "train_df, val_df = train_test_split(df, test_size=0.2, random_state=42)\n",
    "\n",
    "train_encodings = scoring_tokenizer(list(train_df['text']), truncation=True, padding=True, max_length=512, return_tensors='pt')\n",
    "val_encodings = scoring_tokenizer(list(val_df['text']), truncation=True, padding=True, max_length=512, return_tensors='pt')\n",
    "train_labels = train_df[label_cols].values\n",
    "val_labels = val_df[label_cols].values\n",
    "\n",
    "class EssayDataset(Dataset):\n",
    "    def __init__(self, encodings, labels):\n",
    "        self.encodings = encodings\n",
    "        self.labels = torch.tensor(labels, dtype=torch.long)\n",
    "\n",
    "    def __getitem__(self, idx):\n",
    "        item = {key: val[idx] for key, val in self.encodings.items()}\n",
    "        item['labels'] = self.labels[idx]\n",
    "        return item\n",
    "\n",
    "    def __len__(self):\n",
    "        return len(self.labels)\n",
    "\n",
    "train_dataset = EssayDataset(train_encodings, train_labels)\n",
    "val_dataset = EssayDataset(val_encodings, val_labels)\n",
    "\n",
    "# 4. Classifier Model Definition\n",
    "class MultiOutputBertClassifier(nn.Module):\n",
    "    def __init__(self, hidden_size=768):\n",
    "        super().__init__()\n",
    "        self.bert = DistilBertModel.from_pretrained('distilbert-base-uncased')\n",
    "        self.fc_thesis = nn.Linear(hidden_size, 2)\n",
    "        self.fc_context = nn.Linear(hidden_size, 2)\n",
    "        self.fc_evidence = nn.Linear(hidden_size, 3)\n",
    "        self.fc_analysis = nn.Linear(hidden_size, 3)\n",
    "\n",
    "    def forward(self, input_ids, attention_mask):\n",
    "        outputs = self.bert(input_ids=input_ids, attention_mask=attention_mask)\n",
    "        cls_token = outputs.last_hidden_state[:, 0]\n",
    "        return (\n",
    "            self.fc_thesis(cls_token),\n",
    "            self.fc_context(cls_token),\n",
    "            self.fc_evidence(cls_token),\n",
    "            self.fc_analysis(cls_token)\n",
    "        )\n",
    "\n",
    "model_classifier = MultiOutputBertClassifier().to(device)\n",
    "optimizer = AdamW(model_classifier.parameters(), lr=2e-5)\n",
    "criterion = nn.CrossEntropyLoss()\n",
    "train_loader = DataLoader(train_dataset, batch_size=8, shuffle=True)\n",
    "val_loader = DataLoader(val_dataset, batch_size=8)\n",
    "\n",
    "def compute_accuracy(preds, labels):\n",
    "    return (preds.argmax(dim=1) == labels).float().mean().item()\n",
    "\n",
    "# 5. Classifier Training Loop\n",
    "for epoch in range(3):\n",
    "    model_classifier.train()\n",
    "    total_loss, total_acc = 0, [0]*4\n",
    "\n",
    "    for batch in tqdm(train_loader, desc=f\"Epoch {epoch+1} - Training\"):\n",
    "        input_ids = batch['input_ids'].to(device)\n",
    "        attention_mask = batch['attention_mask'].to(device)\n",
    "        labels = batch['labels'].to(device)\n",
    "\n",
    "        optimizer.zero_grad()\n",
    "        out_thesis, out_context, out_evidence, out_analysis = model_classifier(input_ids, attention_mask)\n",
    "\n",
    "        loss = sum([\n",
    "            criterion(out_thesis, labels[:, 0]),\n",
    "            criterion(out_context, labels[:, 1]),\n",
    "            criterion(out_evidence, labels[:, 2]),\n",
    "            criterion(out_analysis, labels[:, 3])\n",
    "        ])\n",
    "\n",
    "        loss.backward()\n",
    "        optimizer.step()\n",
    "\n",
    "        total_loss += loss.item()\n",
    "        total_acc = [total_acc[i] + compute_accuracy(out, labels[:, i]) for i, out in enumerate([out_thesis, out_context, out_evidence, out_analysis])]\n",
    "\n",
    "    print(f\"\\nEpoch {epoch+1} Train Loss: {total_loss/len(train_loader):.4f}\")\n",
    "    print(f\"Train Accuracy: {['{:.2%}'.format(a/len(train_loader)) for a in total_acc]}\")\n",
    "\n",
    "# 6. Feedback Generation Model Prep\n",
    "t5_df = []\n",
    "feedback_tokenizer = T5Tokenizer.from_pretrained('t5-small')\n",
    "\n",
    "rubrics = [\n",
    "    (\"Thesis\", \"Score-Thesis (0-1)\", \"Feedback-Thesis\"),\n",
    "    (\"Contextualization\", \"Score-Contextualization (0-1)\", \"Feedback-Contextualization\"),\n",
    "    (\"Evidence\", \"Score-Evidence (0-2)\", \"Feedback-Evidence\"),\n",
    "    (\"Analysis\", \"Score-Analysis and Reasoning (0-2)\", \"Feedback-Analysis\")\n",
    "]\n",
    "\n",
    "for _, row in df.iterrows():\n",
    "    for rubric, score_col, feedback_col in rubrics:\n",
    "        if pd.notna(row[score_col]) and pd.notna(row[feedback_col]):\n",
    "            prompt = f\"Generate feedback for {rubric}. Question: {row['Question']} Response: {row['Response']} Score: {row[score_col]}\"\n",
    "            t5_df.append((prompt, row[feedback_col]))\n",
    "\n",
    "fb_df = pd.DataFrame(t5_df, columns=[\"input_text\", \"target_text\"])\n",
    "train_fb, val_fb = train_test_split(fb_df, test_size=0.2, random_state=42)\n",
    "\n",
    "class T5FeedbackDataset(Dataset):\n",
    "    def __init__(self, df, tokenizer):\n",
    "        self.inputs = df['input_text'].tolist()\n",
    "        self.targets = df['target_text'].tolist()\n",
    "        self.tokenizer = tokenizer\n",
    "\n",
    "    def __len__(self): return len(self.inputs)\n",
    "\n",
    "    def __getitem__(self, idx):\n",
    "        input_enc = self.tokenizer(self.inputs[idx], max_length=512, truncation=True, padding='max_length', return_tensors='pt')\n",
    "        target_enc = self.tokenizer(self.targets[idx], max_length=128, truncation=True, padding='max_length', return_tensors='pt')\n",
    "        return {\n",
    "            'input_ids': input_enc['input_ids'].squeeze(),\n",
    "            'attention_mask': input_enc['attention_mask'].squeeze(),\n",
    "            'labels': target_enc['input_ids'].squeeze()\n",
    "        }\n",
    "\n",
    "train_fb_ds = T5FeedbackDataset(train_fb, feedback_tokenizer)\n",
    "val_fb_ds = T5FeedbackDataset(val_fb, feedback_tokenizer)\n",
    "train_fb_loader = DataLoader(train_fb_ds, batch_size=4, shuffle=True)\n",
    "val_fb_loader = DataLoader(val_fb_ds, batch_size=4)\n",
    "\n",
    "model_feedback = T5ForConditionalGeneration.from_pretrained('t5-small').to(device)\n",
    "optimizer = AdamW(model_feedback.parameters(), lr=3e-4)\n",
    "\n",
    "def train_t5_epoch(model, dataloader):\n",
    "    model.train()\n",
    "    total_loss = 0\n",
    "    for batch in tqdm(dataloader, desc=\"Training\"):\n",
    "        inputs = {k: v.to(device) for k, v in batch.items()}\n",
    "        inputs['labels'][inputs['labels'] == feedback_tokenizer.pad_token_id] = -100\n",
    "        loss = model(**inputs).loss\n",
    "        loss.backward()\n",
    "        optimizer.step(); optimizer.zero_grad()\n",
    "        total_loss += loss.item()\n",
    "    return total_loss / len(dataloader)\n",
    "\n",
    "def evaluate_t5(model, dataloader):\n",
    "    model.eval()\n",
    "    total_loss = 0\n",
    "    with torch.no_grad():\n",
    "        for batch in dataloader:\n",
    "            inputs = {k: v.to(device) for k, v in batch.items()}\n",
    "            inputs['labels'][inputs['labels'] == feedback_tokenizer.pad_token_id] = -100\n",
    "            total_loss += model(**inputs).loss.item()\n",
    "    return total_loss / len(dataloader)\n",
    "\n",
    "for epoch in range(15):\n",
    "    train_loss = train_t5_epoch(model_feedback, train_fb_loader)\n",
    "    val_loss = evaluate_t5(model_feedback, val_fb_loader)\n",
    "    print(f\"\\nEpoch {epoch+1}: Train Loss = {train_loss:.4f}, Val Loss = {val_loss:.4f}\")\n",
    "\n",
    "# 7. Predict + Generate Feedback for New Samples\n",
    "def predict_scores(text):\n",
    "    model_classifier.eval()\n",
    "    enc = scoring_tokenizer(text, return_tensors='pt', truncation=True, padding=True, max_length=512).to(device)\n",
    "    with torch.no_grad():\n",
    "        o1, o2, o3, o4 = model_classifier(**enc)\n",
    "    return {\n",
    "        \"Thesis\": o1.argmax(dim=1).item(),\n",
    "        \"Contextualization\": o2.argmax(dim=1).item(),\n",
    "        \"Evidence\": o3.argmax(dim=1).item(),\n",
    "        \"Analysis\": o4.argmax(dim=1).item()\n",
    "    }\n",
    "\n",
    "def generate_feedback_all(question, response, scores):\n",
    "    model_feedback.eval()\n",
    "    out = {}\n",
    "    for rubric, score in scores.items():\n",
    "        prompt = f\"Give detailed feedback on the student's {rubric}. Question: {question} Response: {response} Score: {score}\"\n",
    "        inputs = feedback_tokenizer(prompt, return_tensors='pt', truncation=True, padding=True, max_length=512).to(device)\n",
    "        with torch.no_grad():\n",
    "            output = model_feedback.generate(\n",
    "                input_ids=inputs['input_ids'],\n",
    "                attention_mask=inputs['attention_mask'],\n",
    "                max_length=256, num_beams=4, early_stopping=True\n",
    "            )\n",
    "        out[rubric] = feedback_tokenizer.decode(output[0], skip_special_tokens=True)\n",
    "    return out\n",
    "\n",
    "# Example evaluation\n",
    "test_data = [\n",
    "    {\n",
    "        \"Question\": \"Evaluate the extent to which the growth of transatlantic trade changed British North American colonial society from 1607 to 1776.\",\n",
    "        \"Response\": \"\"\"Since the beginning of the Era of Exploration, European nations had been funding groundbreaking navigation trips to never-before-explored areas, developing colonies, and establishing trade. Explorers such as Vasco De Gama, Ferdinand Magellen, Christopher Columbus were funded by monarchs such as Isabella of Spain and aided by technology such as carvel ships and astrolabes. Once landed, nations quickly established colonies, with those such as Spanish conquistadors using immense force to combat Native populations. The unique resources and immense wealth brought about by these colonies were exchanged throughout trade routes, one of the most notable being the transatlantic trade route. Although it furthered the British North American colonies' ties to England, transatlantic trade succeeded in drastically changing the British North American colonial society to large extent by leading to the development of distinct regions throughout the colonies and leading to the dependence of Southern society on slave labor. To begin with, the transatlantic trade involved many of the British North American colonies, but, at each port, different items were exchanged, leading to the development of distinct economical regions between these colonies; these unique economies, in turn, shaped British American colonial society. For example, the Massachussetts Bay Colony in the northern region had originally been founded on the principle of religious tolerance (for select religions excluding Catholicism and Judaism). Located along the coast, this colony quickly became apart of transatlantic trade, which led to the formation of the colony's economy. The economy of the Massachussetts Bay Colony became based around fishing, but, more importantly, shipbuilding, as a merchant class evolved within this economy and sought to partake in the transatlantic trade. As a result, this colony was more reliant on commerce than agriculture, leading to tightly spaced and closer knit communities, allowing these societies to become more connected and reliant on the church. In the South, the colony of Virginia was originally founded upon the principles of \"God, Gold, and Glory\". However, after harsh seasons and the discovery of the absence of gold, the colonists grew discontent. But, the transatlantic slave trade gradually increased the wealth of Virginian colonists by encouraging these colonists to grow and trade crops, such as tobacco, a cash crop, in the profitable transatlantic trade. As a result, the Virginian economy became reliant on agriculture, a lot of land was dedicated to farming, and societies became more spread out and less tightly knit than Northern colonies. In addition to creating distinct regions, the transatlantic trade introduced Southern colonies to slave labor and gradually increased these colonies' dependence on slave labor over time. For example, in 1607, the first Africans arrived in Virginia, but it was a very small amount. More importantly, these Africans arrived as indentured servants, with freedom promised to them after a designated number of years of service. However, the development of the transatlantic trade made the South reliant on slaves not only by demanding more and more agricultural output from the South, but also by supplying the South with the slaves through the transatlantic slave trade. In the transatlantic slave trade, Europeans in Africa would kidnap Africans or bribe African tribes to kidnap rival tribe members put on ships destined for British North America. Once these ships reached the South, the slaves were auctioned off. The increase of slave labor in the South also led the creation of Southern plantations, a unique characteristic of Southern society that represented the South even after the transatlantic slave trade ended (this is evident in media such as Gone with the Wind). While the transatlantic trade may have created regions and developed slavery, it did act as a continuity in furthering the British North American colonies' ties with England. As a crucial part of transatlantic trade, the colonies sold much of their raw materials to consumers in England. The profits from this trade constituted a large part of the colonial economy and made the colonies dependent on England. For example, when the colonists were angry at the Tea Act, which gave the British East India Company a monopoly over the tea trade, colonists rebelled through the Boston Tea Party, in which vast amounts of expensive of tea were dumped into the Boston Harbor. The colonists retaliated in this way because they were angry that England had the ability to grant monopoly rights to the British East India Company but they also acknowledged that by ruining the tea, they were harming the crucial economic tie between the colonies in England. Considering this example and others, it begins to be revealed that the transatlantic trade actually did cause change in relation to the colonies and England in that it stirred political activism in colonial society by creating a tie so strong that the colonists felt no choice but to retaliate and break this economic bond with England as part of a way to obtain independence in their economies, politics, and society.\"\"\"\n",
    "    },\n",
    "    {\n",
    "        \"Question\": \"Evaluate the extent to which the growth of transatlantic trade changed British North American colonial society from 1607 to 1776.\",\n",
    "        \"Response\": \"\"\"The arrival of Columbus in the Americas had set off a larrge and immense movment of people from all the major coutnries of the Netherlands, Spain, France, and the British to North and South America. The British, however, was the the main powera as thir navy was the storngest amongst any of his other opponents, and had the wealth and resoures to be able to take the area of land East of North America to form its colonies. They had established the city of Jamestown, the first permanent colonial settlement, and were able to expand with the ability of their large military power to form a total of 13 colonies connectign each other through the Atlantic Ocean. From the period of 1607 to 1776, the growth of the transatlantic slave trade changed British North American colonial society as it started to bring an exahnge of large amoutns of goods and reosurces while also prioriting the idea of mercantilism in the colonies. However, the trade had also establsihed the use of slavery in the predominant Southern colonies whose effect would last for years to come even after American independcne. The transatlatic slave trade had establsihed a network of network of exchange of resources, however heavily implented the idea of self-profit through mercantilism. Resoruces such as tomatoes, corn, and, and turkey was introdued to the British society while bringing resoruces such as potatoes and horses to the colonies. They had estabished the ability to exploit colonists and people born in the Americans for their own will and profit thir home nation of Britain. Although the colonists also profits from this from of trade, they were being used by the British to work for them as they also constructed the social classes of people to tkae charge of the ability, strenght, and upsrings of the others. The form of trade had also idtrodcted slavery into the nation, to replace Idians for a form of indentured servitude. Slaves were purchsed form Africa and brought to the Americas to work in the SOuthern palntations set up in the solonies. As the colonies in the South had better climate, they were able to use a form of labor that would not have to ask for any form of pay or reward. This had forced the southern economy to be enrooted towards the idea of slavery and run its economy off the proficts made from agriculture and slavery. The pattern of southern slavery is continued all throughout decades all the way to the idea of sectionalism, nullification, and the Civil War as the slave-establsuhed states of the new country had started to separated due to the issue of slavery, contaaining it, and abolishing it.\"\"\"\n",
    "    },\n",
    "    {\n",
    "        \"Question\": \"Evaluate the extent to which the growth of transatlantic trade changed British North American colonial society from 1607 to 1776.\",\n",
    "        \"Response\": \"\"\"In 1492, Christopher Columbus had fled from Europe founded the Americas caused a chain of events where he led several countries in Europe including the Spanish, French, and British to colonize the land and have and exchange of goods called The Columbian Exchange of which allowed them to have access to goods from the Americas but as a result brought in diseases of which killed millions of Native Americans which only gave them access to more land and caused more migration over to the New World causing several colonies to settle down continusly traded with Europe with their new goods from the Americas which helped grow the transatlantic trade route. The growth of this route allowed for a lot of change in the British North American colonial society like helping them realize their want for representation and ending up independent from the British.\"\"\"\n",
    "    }\n",
    "]\n",
    "\n",
    "\n",
    "results = []\n",
    "for row in test_data:\n",
    "    text = row['Question'] + \" [SEP] \" + row['Response']\n",
    "    scores = predict_scores(text)\n",
    "    feedback = generate_feedback_all(row['Question'], row['Response'], scores)\n",
    "    results.append({**row, **scores, **{f\"{k} Feedback\": v for k, v in feedback.items()}})\n",
    "\n",
    "import pandas as pd\n",
    "\n",
    "# Ensure full column content is shown\n",
    "pd.set_option('display.max_colwidth', None)\n",
    "\n",
    "# Then display the DataFrame\n",
    "display(results)\n",
    "\n"
   ]
  },
  {
   "cell_type": "code",
   "execution_count": null,
   "id": "a075b78b-0483-44c5-a48b-86634a4ad769",
   "metadata": {},
   "outputs": [],
   "source": []
  }
 ],
 "metadata": {
  "kernelspec": {
   "display_name": "Python 3 (ipykernel)",
   "language": "python",
   "name": "python3"
  },
  "language_info": {
   "codemirror_mode": {
    "name": "ipython",
    "version": 3
   },
   "file_extension": ".py",
   "mimetype": "text/x-python",
   "name": "python",
   "nbconvert_exporter": "python",
   "pygments_lexer": "ipython3",
   "version": "3.11.7"
  }
 },
 "nbformat": 4,
 "nbformat_minor": 5
}
